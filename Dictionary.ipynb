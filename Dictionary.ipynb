{
 "cells": [
  {
   "cell_type": "code",
   "execution_count": 2,
   "id": "d792ceb4",
   "metadata": {},
   "outputs": [
    {
     "name": "stdout",
     "output_type": "stream",
     "text": [
      "<class 'dict'>\n"
     ]
    }
   ],
   "source": [
    "d ={}\n",
    "d = dict()\n",
    "print(type(d))"
   ]
  },
  {
   "cell_type": "code",
   "execution_count": 4,
   "id": "ecf69049",
   "metadata": {},
   "outputs": [
    {
     "name": "stdout",
     "output_type": "stream",
     "text": [
      "Apple\n",
      "Ball\n"
     ]
    }
   ],
   "source": [
    "#d = {<key>:<value>,<key>:<value>,<key>:<value>}\n",
    "a = {\"a\":\"Apple\",\"b\":\"Ball\",\"c\":\"Cat\"}\n",
    "a\n",
    "print(a['a'])\n",
    "print(a['b'])"
   ]
  },
  {
   "cell_type": "code",
   "execution_count": 5,
   "id": "36cb06b4",
   "metadata": {},
   "outputs": [
    {
     "data": {
      "text/plain": [
       "{'a': 'Apple', 'b': 'Ball', 'c': 'Cat', 'A': 'Apple'}"
      ]
     },
     "execution_count": 5,
     "metadata": {},
     "output_type": "execute_result"
    }
   ],
   "source": [
    "a = {\"a\":\"Apple\",\"b\":\"Ball\",\"c\":\"Cat\",\"A\":\"Apple\"}\n",
    "a"
   ]
  },
  {
   "cell_type": "code",
   "execution_count": 6,
   "id": "e37ad2d2",
   "metadata": {},
   "outputs": [
    {
     "data": {
      "text/plain": [
       "{'a': 'apple', 'b': 'Ball', 'c': 'Cat'}"
      ]
     },
     "execution_count": 6,
     "metadata": {},
     "output_type": "execute_result"
    }
   ],
   "source": [
    "a = {\"a\":\"Apple\",\"b\":\"Ball\",\"c\":\"Cat\",\"a\":\"apple\"}\n",
    "a"
   ]
  },
  {
   "cell_type": "code",
   "execution_count": 7,
   "id": "b83720a8",
   "metadata": {},
   "outputs": [
    {
     "data": {
      "text/plain": [
       "{'a': 'Apple', 'b': 'Ball'}"
      ]
     },
     "execution_count": 7,
     "metadata": {},
     "output_type": "execute_result"
    }
   ],
   "source": [
    "d = {}\n",
    "d[\"a\"] = \"Apple\"\n",
    "d[\"b\"] = \"Ball\"\n",
    "d"
   ]
  },
  {
   "cell_type": "code",
   "execution_count": 8,
   "id": "40e6f0fa",
   "metadata": {},
   "outputs": [
    {
     "data": {
      "text/plain": [
       "{'a': 'Ant', 'b': 'Ball'}"
      ]
     },
     "execution_count": 8,
     "metadata": {},
     "output_type": "execute_result"
    }
   ],
   "source": [
    "d = {}\n",
    "d[\"a\"] = \"Apple\"\n",
    "d[\"b\"] = \"Ball\"\n",
    "d['a'] = 'Ant'\n",
    "d"
   ]
  },
  {
   "cell_type": "code",
   "execution_count": 9,
   "id": "c5c08f35",
   "metadata": {},
   "outputs": [
    {
     "name": "stdout",
     "output_type": "stream",
     "text": [
      "Enter n = 2\n",
      "Enter name = ram\n",
      "Enter phone = 9841125636\n",
      "Enter name = hari\n",
      "Enter phone = 9854441256\n",
      "{'ram': 9841125636, 'hari': 9854441256}\n"
     ]
    }
   ],
   "source": [
    "d = {}\n",
    "n = int(input(\"Enter n = \"))\n",
    "for i in range(n):\n",
    "    name = input(\"Enter name = \")\n",
    "    phone = int(input(\"Enter phone = \"))\n",
    "    d[name] = phone\n",
    "print(d)"
   ]
  },
  {
   "cell_type": "code",
   "execution_count": 10,
   "id": "0a4eb5e9",
   "metadata": {},
   "outputs": [
    {
     "data": {
      "text/plain": [
       "{'ram': 9841125636, 'hari': 9854441256, 'shyam': 9854414785}"
      ]
     },
     "execution_count": 10,
     "metadata": {},
     "output_type": "execute_result"
    }
   ],
   "source": [
    "a = {'ram': 9841125636, 'hari': 9854441256}\n",
    "a['shyam'] = 9854414785\n",
    "a"
   ]
  },
  {
   "cell_type": "code",
   "execution_count": 11,
   "id": "ff14268f",
   "metadata": {},
   "outputs": [
    {
     "name": "stdout",
     "output_type": "stream",
     "text": [
      "ram\n",
      "hari\n",
      "shyam\n"
     ]
    }
   ],
   "source": [
    "for i in a:\n",
    "    print(i)"
   ]
  },
  {
   "cell_type": "code",
   "execution_count": 12,
   "id": "61328171",
   "metadata": {},
   "outputs": [
    {
     "name": "stdout",
     "output_type": "stream",
     "text": [
      "9841125636\n",
      "9854441256\n",
      "9854414785\n"
     ]
    }
   ],
   "source": [
    "for i in a.values():\n",
    "    print(i)"
   ]
  },
  {
   "cell_type": "code",
   "execution_count": 13,
   "id": "ed59d7e6",
   "metadata": {},
   "outputs": [
    {
     "name": "stdout",
     "output_type": "stream",
     "text": [
      "('ram', 9841125636)\n",
      "('hari', 9854441256)\n",
      "('shyam', 9854414785)\n"
     ]
    }
   ],
   "source": [
    "for i in a.items():\n",
    "    print(i)"
   ]
  },
  {
   "cell_type": "code",
   "execution_count": 14,
   "id": "6c5a79bf",
   "metadata": {},
   "outputs": [
    {
     "data": {
      "text/plain": [
       "[('ram', 9841125636), ('hari', 9854441256), ('shyam', 9854414785)]"
      ]
     },
     "execution_count": 14,
     "metadata": {},
     "output_type": "execute_result"
    }
   ],
   "source": [
    "l = []\n",
    "for i in a.items():\n",
    "    l.append(i)\n",
    "l"
   ]
  },
  {
   "cell_type": "code",
   "execution_count": 16,
   "id": "8a53e11c",
   "metadata": {},
   "outputs": [
    {
     "data": {
      "text/plain": [
       "{'ram': 9841125636, 'hari': 9854441256, 'shyam': 9854414785}"
      ]
     },
     "execution_count": 16,
     "metadata": {},
     "output_type": "execute_result"
    }
   ],
   "source": [
    "d = dict(l)\n",
    "d"
   ]
  },
  {
   "cell_type": "code",
   "execution_count": 17,
   "id": "22890ebc",
   "metadata": {},
   "outputs": [
    {
     "data": {
      "text/plain": [
       "{'ram': 9841125636, 'hari': 9854441256, 'shyam': 9854414785}"
      ]
     },
     "execution_count": 17,
     "metadata": {},
     "output_type": "execute_result"
    }
   ],
   "source": [
    "a = (('ram', 9841125636), ('hari', 9854441256), ('shyam', 9854414785))\n",
    "dict(a)\n"
   ]
  },
  {
   "cell_type": "code",
   "execution_count": 19,
   "id": "8fd61fe2",
   "metadata": {},
   "outputs": [
    {
     "data": {
      "text/plain": [
       "{'ram': 9841125636, 'hari': 9854441256, 'shyam': 9854414785}"
      ]
     },
     "execution_count": 19,
     "metadata": {},
     "output_type": "execute_result"
    }
   ],
   "source": [
    "a = [['ram', 9841125636], ['hari', 9854441256], ['shyam', 9854414785]]\n",
    "b = dict(a)\n",
    "b\n"
   ]
  },
  {
   "cell_type": "code",
   "execution_count": 20,
   "id": "ad27ac61",
   "metadata": {},
   "outputs": [
    {
     "data": {
      "text/plain": [
       "['ram', 'hari', 'shyam']"
      ]
     },
     "execution_count": 20,
     "metadata": {},
     "output_type": "execute_result"
    }
   ],
   "source": [
    "list(b)"
   ]
  },
  {
   "cell_type": "code",
   "execution_count": 21,
   "id": "bac5dab5",
   "metadata": {},
   "outputs": [
    {
     "data": {
      "text/plain": [
       "{'ram': 9847777899, 'hari': 9854441256, 'shyam': 9854414785}"
      ]
     },
     "execution_count": 21,
     "metadata": {},
     "output_type": "execute_result"
    }
   ],
   "source": [
    "a = {'ram': 9841125636, 'hari': 9854441256, 'shyam': 9854414785}\n",
    "a['ram'] = 9847777899\n",
    "a"
   ]
  },
  {
   "cell_type": "code",
   "execution_count": 22,
   "id": "336f2d3f",
   "metadata": {},
   "outputs": [
    {
     "data": {
      "text/plain": [
       "{'hari': 9854441256, 'shyam': 9854414785}"
      ]
     },
     "execution_count": 22,
     "metadata": {},
     "output_type": "execute_result"
    }
   ],
   "source": [
    "a = {'ram': 9841125636, 'hari': 9854441256, 'shyam': 9854414785}\n",
    "del a['ram']\n",
    "a"
   ]
  },
  {
   "cell_type": "code",
   "execution_count": 24,
   "id": "001d5d9e",
   "metadata": {},
   "outputs": [
    {
     "name": "stdout",
     "output_type": "stream",
     "text": [
      "{'ram': 9841125636, 'hari': 9854441256}\n",
      "9854414785\n"
     ]
    }
   ],
   "source": [
    "a = {'ram': 9841125636, 'hari': 9854441256, 'shyam': 9854414785}\n",
    "b = a.pop(\"shyam\")\n",
    "print(a)\n",
    "print(b)"
   ]
  },
  {
   "cell_type": "code",
   "execution_count": 25,
   "id": "109a77ca",
   "metadata": {},
   "outputs": [
    {
     "data": {
      "text/plain": [
       "{'ram': [9841125636, 98455555788], 'hari': 9854441256, 'shyam': 9854414785}"
      ]
     },
     "execution_count": 25,
     "metadata": {},
     "output_type": "execute_result"
    }
   ],
   "source": [
    "# list inside dict\n",
    "a = {'ram': [9841125636,98455555788], 'hari': 9854441256, 'shyam': 9854414785}\n",
    "a"
   ]
  },
  {
   "cell_type": "code",
   "execution_count": 28,
   "id": "37a3bdc0",
   "metadata": {},
   "outputs": [
    {
     "name": "stdout",
     "output_type": "stream",
     "text": [
      "Enter n = 2\n",
      "Enter name = hari\n",
      "Enter phone = 9556\n",
      "Enter another phone = 8745\n",
      "Enter address = ktm\n",
      "Enter name = shyam\n",
      "Enter phone = 5622\n",
      "Enter another phone = 41225\n",
      "Enter address = ktm\n",
      "{'hari': [9556, 8745, 'ktm'], 'shyam': [5622, 41225, 'ktm']}\n"
     ]
    }
   ],
   "source": [
    "d = {}\n",
    "n = int(input(\"Enter n = \"))\n",
    "for i in range(n):\n",
    "    name = input(\"Enter name = \")\n",
    "    p1 = int(input(\"Enter phone = \"))\n",
    "    p2 = int(input(\"Enter another phone = \"))\n",
    "    add = input(\"Enter address = \")\n",
    "    d[name] = [p1,p2,add]\n",
    "print(d)\n",
    "    "
   ]
  },
  {
   "cell_type": "code",
   "execution_count": 29,
   "id": "554189e6",
   "metadata": {},
   "outputs": [
    {
     "data": {
      "text/plain": [
       "{'ram': [9841125636, 98455555788],\n",
       " 'hari': [9854441256, 9854414785],\n",
       " 'shyam': [9841147859, 3256698547]}"
      ]
     },
     "execution_count": 29,
     "metadata": {},
     "output_type": "execute_result"
    }
   ],
   "source": [
    "a = {'ram': [9841125636, 98455555788], 'hari': [9854441256, 9854414785]}\n",
    "b = {'shyam':[9841147859,3256698547]}\n",
    "a.update(b)\n",
    "a"
   ]
  },
  {
   "cell_type": "code",
   "execution_count": 31,
   "id": "da85e3c4",
   "metadata": {},
   "outputs": [
    {
     "data": {
      "text/plain": [
       "{'ram': [8745596845, 98455555788],\n",
       " 'hari': [9854441256, 9854414785],\n",
       " 'shyam': [9841147859, 3256698547]}"
      ]
     },
     "execution_count": 31,
     "metadata": {},
     "output_type": "execute_result"
    }
   ],
   "source": [
    "a['ram'][0] = 8745596845\n",
    "a"
   ]
  },
  {
   "cell_type": "code",
   "execution_count": null,
   "id": "6df37d63",
   "metadata": {},
   "outputs": [],
   "source": [
    "# Wap to create the given type\n",
    "# d = {\"Name\" :[\"Ram\",\"Shyam\",\"Hari:],\n",
    "#      \"Age\" :[55,56,45],\n",
    "#       \"Address\" :[\"Kathmandu\",\"Bhaktapur\",\"Lalitpur\"]}\n",
    "\n"
   ]
  },
  {
   "cell_type": "code",
   "execution_count": 1,
   "id": "0b65a92a",
   "metadata": {},
   "outputs": [
    {
     "name": "stdout",
     "output_type": "stream",
     "text": [
      "Enter n = 3\n",
      "Enter name = Ram\n",
      "Enter age = 55\n",
      "Enter address = Ktm\n",
      "Enter name = Hari\n",
      "Enter age = 56\n",
      "Enter address = Ktm\n",
      "Enter name = shyam\n",
      "Enter age = 57\n",
      "Enter address = lalitpur\n",
      "{'Name': ['Ram', 'Hari', 'shyam'], 'Age': [55, 56, 57], 'Address': ['Ktm', 'Ktm', 'lalitpur']}\n"
     ]
    }
   ],
   "source": [
    "d = {\"Name\":[],\"Age\":[],\"Address\":[]}\n",
    "n = int(input(\"Enter n = \"))\n",
    "for i in range(n):\n",
    "    name = input(\"Enter name = \")\n",
    "    age = int(input(\"Enter age = \"))\n",
    "    add = input(\"Enter address = \")\n",
    "    \n",
    "    d[\"Name\"].append(name)\n",
    "    d[\"Age\"].append(age)\n",
    "    d[\"Address\"].append(add)\n",
    "print(d)    "
   ]
  },
  {
   "cell_type": "code",
   "execution_count": 2,
   "id": "a9f9bbe8",
   "metadata": {},
   "outputs": [],
   "source": [
    "#  wap to create following type \n",
    "# l = [{\"Name\":\"Ram\",\"Age\":45,\"Address\":\"Kathmandu\"},\n",
    "# {\"Name\":\"Shyam\",\"Age\":55,\"Address\":\"Lalitpur\"},\n",
    "# {\"Name\":\"Hari\",\"Age\":35,\"Address\":\"Bhaktapur\"}]\n",
    "\n",
    "# d = {1:{\"Name\":\"Ram\",\"Age\":45,\"Address\":\"Kathmandu\"},\n",
    "# 2:{\"Name\":\"Shyam\",\"Age\":55,\"Address\":\"Lalitpur\"},\n",
    "# 3:{\"Name\":\"Hari\",\"Age\":35,\"Address\":\"Bhaktapur\"}}"
   ]
  },
  {
   "cell_type": "code",
   "execution_count": 1,
   "id": "75dd819b",
   "metadata": {},
   "outputs": [
    {
     "name": "stdout",
     "output_type": "stream",
     "text": [
      "Enter n = 2\n",
      "Enter name = Ram\n",
      "Enter age = 55\n",
      "Enter address = Kathmandu\n",
      "Enter name = Hari\n",
      "Enter age = 45\n",
      "Enter address = Bhaktapur\n",
      "[{'Name': 'Ram', 'Age': 55, 'Address': 'Kathmandu'}, {'Name': 'Hari', 'Age': 45, 'Address': 'Bhaktapur'}]\n"
     ]
    }
   ],
   "source": [
    "l = []\n",
    "n = int(input(\"Enter n = \"))\n",
    "for i in range(n):\n",
    "    name = input(\"Enter name = \")\n",
    "    age = int(input(\"Enter age = \"))\n",
    "    add = input(\"Enter address = \")\n",
    "    data = {\"Name\":name,\"Age\":age,\"Address\":add}\n",
    "    l.append(data)\n",
    "print(l)\n",
    "    "
   ]
  },
  {
   "cell_type": "code",
   "execution_count": 3,
   "id": "57d4ebf0",
   "metadata": {},
   "outputs": [
    {
     "data": {
      "text/plain": [
       "[{'Name': 'Raj', 'Age': 55, 'Address': 'Kathmandu'},\n",
       " {'Name': 'Hari', 'Age': 45, 'Address': 'Bhaktapur'}]"
      ]
     },
     "execution_count": 3,
     "metadata": {},
     "output_type": "execute_result"
    }
   ],
   "source": [
    "a = [{'Name': 'Ram', 'Age': 55, 'Address': 'Kathmandu'},\n",
    "{'Name': 'Hari', 'Age': 45, 'Address': 'Bhaktapur'}]\n",
    "a[0][\"Name\"] = \"Raj\"\n",
    "a"
   ]
  },
  {
   "cell_type": "code",
   "execution_count": 4,
   "id": "4e918e05",
   "metadata": {},
   "outputs": [
    {
     "name": "stdout",
     "output_type": "stream",
     "text": [
      "Enter n = 2\n",
      "Enter name = Ram\n",
      "Enter age = 55\n",
      "Enter address = Kathmandu\n",
      "Enter name = Hari\n",
      "Enter age = 45\n",
      "Enter address = Bhaktapur\n",
      "{1: {'Name': 'Ram', 'Age': 55, 'Address': 'Kathmandu'}, 2: {'Name': 'Hari', 'Age': 45, 'Address': 'Bhaktapur'}}\n"
     ]
    }
   ],
   "source": [
    "l = {}\n",
    "n = int(input(\"Enter n = \"))\n",
    "for i in range(1,n+1):\n",
    "    name = input(\"Enter name = \")\n",
    "    age = int(input(\"Enter age = \"))\n",
    "    add = input(\"Enter address = \")\n",
    "    data = {\"Name\":name,\"Age\":age,\"Address\":add}\n",
    "    l[i]=data\n",
    "print(l)\n",
    "   "
   ]
  },
  {
   "cell_type": "code",
   "execution_count": null,
   "id": "ecfa5486",
   "metadata": {},
   "outputs": [],
   "source": []
  }
 ],
 "metadata": {
  "kernelspec": {
   "display_name": "Python 3 (ipykernel)",
   "language": "python",
   "name": "python3"
  },
  "language_info": {
   "codemirror_mode": {
    "name": "ipython",
    "version": 3
   },
   "file_extension": ".py",
   "mimetype": "text/x-python",
   "name": "python",
   "nbconvert_exporter": "python",
   "pygments_lexer": "ipython3",
   "version": "3.9.12"
  }
 },
 "nbformat": 4,
 "nbformat_minor": 5
}
