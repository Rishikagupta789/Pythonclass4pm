{
 "cells": [
  {
   "cell_type": "code",
   "execution_count": 1,
   "id": "7f66712b",
   "metadata": {},
   "outputs": [
    {
     "name": "stdout",
     "output_type": "stream",
     "text": [
      "2\n",
      "4\n"
     ]
    }
   ],
   "source": [
    "# Wap to detect index of a duplicate data.\n",
    "a = [\"Aeroplane\",\"Car\",\"Bike\",\"Cycle\",\"Bike\",\"Motorcycle\"]\n",
    "for i in range(len(a)):\n",
    "    if a[i] == \"Bike\":\n",
    "        print(i)\n",
    " "
   ]
  },
  {
   "cell_type": "code",
   "execution_count": 4,
   "id": "56c1de35",
   "metadata": {},
   "outputs": [
    {
     "name": "stdout",
     "output_type": "stream",
     "text": [
      "List After removing duplicates  ['Aeroplane', 'Car', 'Cycle', 'Motorcycle']\n"
     ]
    }
   ],
   "source": [
    "# Method 1\n",
    "# Wap to remove duplicate data(both)\n",
    "a = [\"Aeroplane\",\"Car\",\"Bike\",\"Cycle\",\"Bike\",\"Motorcycle\"]\n",
    "b = []\n",
    "for i in a:\n",
    "    if i != \"Bike\":\n",
    "        b.append(i)\n",
    "\n",
    "print(\"List After removing duplicates \",b)"
   ]
  },
  {
   "cell_type": "code",
   "execution_count": 6,
   "id": "902fb446",
   "metadata": {},
   "outputs": [
    {
     "name": "stdout",
     "output_type": "stream",
     "text": [
      "['Aeroplane', 'Car', 'Cycle', 'Bike', 'Motorcycle']\n",
      "['Aeroplane', 'Car', 'Cycle', 'Motorcycle']\n"
     ]
    }
   ],
   "source": [
    "# Method 2\n",
    "# Wap to remove duplicate data(both)\n",
    "a = [\"Aeroplane\",\"Car\",\"Bike\",\"Cycle\",\"Bike\",\"Motorcycle\"]\n",
    "l = a.count(\"Bike\")\n",
    "for i in range(l):\n",
    "    a.remove(\"Bike\")\n",
    "    print(a)"
   ]
  },
  {
   "cell_type": "code",
   "execution_count": 1,
   "id": "d79fa75b",
   "metadata": {},
   "outputs": [
    {
     "name": "stdout",
     "output_type": "stream",
     "text": [
      "Bike 2\n"
     ]
    }
   ],
   "source": [
    "# Method 3\n",
    "# Wap to remove duplicate data(both)\n",
    "a = [\"Aeroplane\",\"Car\",\"Bike\",\"Cycle\",\"Bike\",\"Motorcycle\"]\n",
    "b = []\n",
    "for i in a:\n",
    "    if a.count(i)>1 and (i not in b):\n",
    "        b.append(i)\n",
    "        print(i,a.count(i))"
   ]
  },
  {
   "cell_type": "code",
   "execution_count": 2,
   "id": "fcf302c2",
   "metadata": {
    "scrolled": true
   },
   "outputs": [
    {
     "name": "stdout",
     "output_type": "stream",
     "text": [
      "Enter 5 elements for the list: \n",
      "cat\n",
      "dog\n",
      "bike\n",
      "cat\n",
      "bike\n",
      "Enter an element to be search: \n",
      "bike\n",
      "\n",
      "Element found at Index: 2\n",
      "Element found at Position: 3\n",
      "\n",
      "Element found at Index: 4\n",
      "Element found at Position: 5\n"
     ]
    }
   ],
   "source": [
    "# Wap to search any given data\n",
    "\n",
    "mylist = []\n",
    "print(\"Enter 5 elements for the list: \")\n",
    "for i in range(5):\n",
    "    val = (input())\n",
    "    mylist.append(val)\n",
    "\n",
    "print(\"Enter an element to be search: \")\n",
    "elem = (input())\n",
    "\n",
    "for i in range(5):\n",
    "    if elem == mylist[i]:\n",
    "        print(\"\\nElement found at Index:\", i)\n",
    "        print(\"Element found at Position:\", i+1)\n",
    "       \n",
    "    \n",
    "    "
   ]
  },
  {
   "cell_type": "code",
   "execution_count": null,
   "id": "a0545c39",
   "metadata": {},
   "outputs": [],
   "source": [
    "# Wap to create the given type\n",
    "# d = {\"Name\" :[\"Ram\",\"Shyam\",\"Hari:],\n",
    "#      \"Age\" :[55,56,45],\n",
    "#       \"Address\" :[\"Kathmandu\",\"Bhaktapur\",\"Lalitpur\"]}"
   ]
  },
  {
   "cell_type": "code",
   "execution_count": 8,
   "id": "7bb99f20",
   "metadata": {},
   "outputs": [
    {
     "ename": "SyntaxError",
     "evalue": "cannot assign to function call (4282530962.py, line 5)",
     "output_type": "error",
     "traceback": [
      "\u001b[1;36m  Input \u001b[1;32mIn [8]\u001b[1;36m\u001b[0m\n\u001b[1;33m    d(\"name\") = name\u001b[0m\n\u001b[1;37m    ^\u001b[0m\n\u001b[1;31mSyntaxError\u001b[0m\u001b[1;31m:\u001b[0m cannot assign to function call\n"
     ]
    }
   ],
   "source": []
  },
  {
   "cell_type": "code",
   "execution_count": 9,
   "id": "b50f7b10",
   "metadata": {},
   "outputs": [
    {
     "ename": "SyntaxError",
     "evalue": "invalid syntax (742600547.py, line 4)",
     "output_type": "error",
     "traceback": [
      "\u001b[1;36m  Input \u001b[1;32mIn [9]\u001b[1;36m\u001b[0m\n\u001b[1;33m    name = input(\"Enter name = \")\u001b[0m\n\u001b[1;37m    ^\u001b[0m\n\u001b[1;31mSyntaxError\u001b[0m\u001b[1;31m:\u001b[0m invalid syntax\n"
     ]
    }
   ],
   "source": [
    "d = {}\n",
    "n = int(input(\"Enter the number = \")\n",
    "for i in range(n)\n",
    "    name = input(\"Enter name = \")\n",
    "        d[Name] = name\n",
    "print(d)\n",
    " \n"
   ]
  },
  {
   "cell_type": "code",
   "execution_count": 13,
   "id": "35d131ef",
   "metadata": {},
   "outputs": [
    {
     "ename": "SyntaxError",
     "evalue": "invalid syntax (4034820427.py, line 3)",
     "output_type": "error",
     "traceback": [
      "\u001b[1;36m  Input \u001b[1;32mIn [13]\u001b[1;36m\u001b[0m\n\u001b[1;33m    for i in range(n):\u001b[0m\n\u001b[1;37m                     ^\u001b[0m\n\u001b[1;31mSyntaxError\u001b[0m\u001b[1;31m:\u001b[0m invalid syntax\n"
     ]
    }
   ],
   "source": []
  },
  {
   "cell_type": "code",
   "execution_count": null,
   "id": "74cd7047",
   "metadata": {},
   "outputs": [],
   "source": []
  }
 ],
 "metadata": {
  "kernelspec": {
   "display_name": "Python 3 (ipykernel)",
   "language": "python",
   "name": "python3"
  },
  "language_info": {
   "codemirror_mode": {
    "name": "ipython",
    "version": 3
   },
   "file_extension": ".py",
   "mimetype": "text/x-python",
   "name": "python",
   "nbconvert_exporter": "python",
   "pygments_lexer": "ipython3",
   "version": "3.9.12"
  }
 },
 "nbformat": 4,
 "nbformat_minor": 5
}
